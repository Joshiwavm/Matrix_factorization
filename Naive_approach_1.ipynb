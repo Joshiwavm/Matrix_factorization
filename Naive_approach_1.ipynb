{
 "cells": [
  {
   "cell_type": "markdown",
   "metadata": {},
   "source": [
    "# A1: Recommender Systems (part 1)#\n",
    "\n",
    "Marija Trajanoska (marijatrajanoska@gmail.com) and Joshiwa van Marrewijk (joshiwa01@gmail.com) [Group 72]"
   ]
  },
  {
   "cell_type": "markdown",
   "metadata": {},
   "source": [
    "The purpose of this project is to utilize the 1M Movielens data set to build a recommandation system for movies. This notebook is part 1 of 2. In this part we implement four naïve models as benchmarks. The goal is to create a baseline for the more advanced approach, which will be presented in part 2. We compute the strength of the benchmark by calculating the Root Mean Square Error (RMSE) between the true ratings and predictions. We further apply 5-fold cross-validation to get a realistic estimate of the performance and stabillity of the model when applied to unknown data. "
   ]
  },
  {
   "cell_type": "code",
   "execution_count": 1,
   "metadata": {},
   "outputs": [],
   "source": [
    "import numpy as np\n",
    "import pandas as pd\n",
    "import matplotlib.pyplot as plt\n",
    "import seaborn as sb\n",
    "sb.set_style('whitegrid')\n",
    "sb.set_context('notebook')"
   ]
  },
  {
   "cell_type": "code",
   "execution_count": 2,
   "metadata": {},
   "outputs": [],
   "source": [
    "# load data\n",
    "ratings = np.genfromtxt(\"ratings.dat\", usecols=(0, 1, 2), delimiter='::', dtype='int')"
   ]
  },
  {
   "cell_type": "markdown",
   "metadata": {},
   "source": [
    "## The Naïve Models ##\n",
    "We used four basic recommender systems, listed in order starting from most basic to more complex."
   ]
  },
  {
   "cell_type": "markdown",
   "metadata": {},
   "source": [
    "1. ***Global mean***: we compute the global mean of all the ratings in the data set and use it as a predicted value for all ratings. \n",
    "\n",
    "$$R_{global} = mean(\\text{all ratings}) $$"
   ]
  },
  {
   "cell_type": "code",
   "execution_count": 3,
   "metadata": {},
   "outputs": [],
   "source": [
    "def calculate_ratings_global_mean(train, test):\n",
    "    R_global = np.mean(train[:,2])\n",
    "    train_diff = train[:,2]-R_global\n",
    "    test_diff = test[:,2]-R_global\n",
    "    return R_global, train_diff, test_diff"
   ]
  },
  {
   "cell_type": "markdown",
   "metadata": {},
   "source": [
    "2. ***Average rating per user***: we compute the mean rating per user and use it as a predicted rating for that user. Users which are in the test set but not in the training set get the global mean as a predicted rating.\n",
    "\n",
    "$$R_{user} = mean(\\text{all ratings for user i}) $$"
   ]
  },
  {
   "cell_type": "code",
   "execution_count": 4,
   "metadata": {},
   "outputs": [],
   "source": [
    "def calculate_ratings_user_mean(train, test):\n",
    "    df_train = pd.DataFrame(train)\n",
    "    df_test = pd.DataFrame(test)\n",
    "    df_train.set_index(0, inplace=True) \n",
    "    df_test.set_index(0, inplace=True) \n",
    "    \n",
    "    R_user_train = df_train.groupby(df_train.index)[2].mean() \n",
    "    \n",
    "    train_diff = df_train[2].sub(R_user_train) \n",
    "    test_diff = df_test[2].sub(R_user_train, fill_value=R_global)\n",
    "    \n",
    "    return R_user_train, train_diff, test_diff"
   ]
  },
  {
   "cell_type": "markdown",
   "metadata": {},
   "source": [
    "3. ***Average rating per item***: we compute the mean rating per item and use it as a predicted rating for that item. Items which are in the test set but not in the training set get the global mean as a predicted rating.\n",
    "\n",
    "$$R_{item} = mean(\\text{all ratings for item j}) $$"
   ]
  },
  {
   "cell_type": "code",
   "execution_count": 5,
   "metadata": {},
   "outputs": [],
   "source": [
    "def calculate_ratings_item_mean(train, test):\n",
    "    df_train = pd.DataFrame(train)\n",
    "    df_test = pd.DataFrame(test)    \n",
    "    df_train.set_index(1, inplace=True)\n",
    "    df_test.set_index(1, inplace=True)\n",
    "    \n",
    "    R_item_train = df_train.groupby(df_train.index, as_index=True)[2].mean() \n",
    "    \n",
    "    train_diff = df_train[2].sub(R_item_train)\n",
    "    test_diff = df_test[2].sub(R_item_train, fill_value=R_global)\n",
    "\n",
    "    return R_item_train, train_diff, test_diff"
   ]
  },
  {
   "cell_type": "markdown",
   "metadata": {},
   "source": [
    "4. ***A linear combination of the above***: we computed a linear combination of a vector containing the average rating per user and a vector containing the average rating per item. The coefficients for the linear regression are determined by a least square estimator (lsq). The coefficients for $\\alpha, \\beta \\ \\text{and} \\ \\gamma$ that will be shown further on. To apply the lsq we used the _numpy_ package np.linalg.lstsq(). This is described as follows:\n",
    "\n",
    "$$R_{user-item} = \\alpha R_{user} + \\beta R_{item} + \\gamma$$"
   ]
  },
  {
   "cell_type": "code",
   "execution_count": 6,
   "metadata": {},
   "outputs": [],
   "source": [
    "def calculate_ratings_linear_regression(train, test, R_user_mean, R_item_mean):\n",
    "    df_train = pd.DataFrame(train)\n",
    "    df_test = pd.DataFrame(test)\n",
    "    df_user_mean = pd.DataFrame(R_user_mean)\n",
    "    df_item_mean = pd.DataFrame(R_item_mean)\n",
    "    df_user_mean.reset_index(inplace=True, drop=False)\n",
    "    df_item_mean.reset_index(inplace=True, drop=False)\n",
    "    \n",
    "    df_train = df_train.reset_index().merge(df_item_mean, on=1, how='left',sort=False).sort_values('index')\n",
    "    df_train = df_train.reset_index().merge(df_user_mean, on=0, how='left',sort=False).sort_values('index')\n",
    "    df_matrix = pd.concat([df_train[2], df_train['2_y']], axis=1)    \n",
    "    \n",
    "    input_matrix = df_matrix.values\n",
    "    ones = np.ones((input_matrix.shape[0],1))\n",
    "    input_matrix = np.hstack((input_matrix,ones))\n",
    "    alpha, beta, gamma =  np.linalg.lstsq(input_matrix,train[:,2],rcond=None)[0] \n",
    "    \n",
    "    df_test = df_test.merge(df_item_mean, on=[1])\n",
    "    df_test = df_test.merge(df_user_mean, on=[0])    \n",
    "    df_test_matrix = pd.concat([df_test[2], df_test['2_y']], axis=1)    \n",
    "    test_matrix = df_test_matrix.values\n",
    "    \n",
    "    ratings_train = alpha*input_matrix[:,0] + beta*input_matrix[:,1] + gamma   \n",
    "    ratings_test = alpha*test_matrix[:,0] + beta*test_matrix[:,1] + gamma \n",
    "    \n",
    "    train_diff = df_train['2_x'] - ratings_train\n",
    "    test_diff = df_test['2_x'] - ratings_test\n",
    "    \n",
    "    return alpha, beta, gamma, train_diff, test_diff"
   ]
  },
  {
   "cell_type": "markdown",
   "metadata": {},
   "source": [
    "### Error metric ###\n",
    "To determine the effectiveness of the recommendations systems we determined the RMSE of the predicted versus the true ratings. The RMSE is defined as follows. $$ RMSE = \\sqrt{\\frac{1}{n}\\Sigma_{i=1}^{n}{(predicted - true)^2}}$$ \n",
    "The difference between the true and predicted rating\n",
    "is squared since it can be either positive or negative. We sum across all the users and all the items, and divide by the number of ratings. The interpretation of the RMSE is as follows: a value of 1 means that the recommendation system is, on average, 1 star off the true rating. A lower value for RMSE is better. For context, the 1 million dollar Netflix prize was awarded for a\n",
    "RMSE of approximately 0.85.\n",
    "\n",
    "The following function computes the RMSE given an array of differences between true and predicted ratings."
   ]
  },
  {
   "cell_type": "code",
   "execution_count": 7,
   "metadata": {},
   "outputs": [],
   "source": [
    "def RMSE_from_difference(diff):\n",
    "    return np.sqrt(np.mean((diff)**2))"
   ]
  },
  {
   "cell_type": "markdown",
   "metadata": {},
   "source": [
    "### Cross-validation ###\n",
    "For cross-validation, we split the data into five equally sized sections (folds) and divided the data in train and test sets, such that each time four folds belong to the training set, and the remaining fold constitutes the test set. We train the model on the training set and then test it on the test set. We determine the predicted ratings on each training and test set and compute the RMSE for each split of the data set. The final RMSE per model is determined by taking the average RMSE over all 5 folds per train and test data. The standard deviation over these 5 trials gives insight into the stability of the model. A small standard deviation describes a low variation over the RMSE and thus suggests that the model is stable. "
   ]
  },
  {
   "cell_type": "code",
   "execution_count": 8,
   "metadata": {},
   "outputs": [],
   "source": [
    "# define number of folds for cross validation\n",
    "nfolds=5\n",
    "\n",
    "# to make sure we are able to repeat the results, we set the random seed to something\n",
    "np.random.seed(17)\n",
    "\n",
    "# we shuffle the dataframe\n",
    "seqs = [x%nfolds for x in range(len(ratings))]\n",
    "np.random.shuffle(seqs)\n",
    "\n",
    "# allocate memory for results\n",
    "rms_train_global=np.zeros(nfolds)\n",
    "rms_test_global=np.zeros(nfolds)\n",
    "rms_train_user=np.zeros(nfolds)\n",
    "rms_test_user=np.zeros(nfolds)\n",
    "rms_train_item=np.zeros(nfolds)\n",
    "rms_test_item=np.zeros(nfolds)\n",
    "rms_train_lsq=np.zeros(nfolds)\n",
    "rms_test_lsq=np.zeros(nfolds)\n",
    "param1=np.zeros(nfolds)\n",
    "param2=np.zeros(nfolds)\n",
    "param3=np.zeros(nfolds)\n",
    "\n",
    "# loop over folds\n",
    "for fold in range(nfolds):\n",
    "    \n",
    "    train_sel=np.array([x!=fold for x in seqs])\n",
    "    test_sel=np.array([x==fold for x in seqs])\n",
    "    train=ratings[train_sel]\n",
    "    test=ratings[test_sel]\n",
    "    \n",
    "    # global mean\n",
    "    R_global, train_diff, test_diff = calculate_ratings_global_mean(train, test)\n",
    "    rms_train_global[fold] = RMSE_from_difference(train_diff)\n",
    "    rms_test_global[fold] = RMSE_from_difference(test_diff)\n",
    "    \n",
    "    #user mean\n",
    "    R_user_mean, train_diff, test_diff = calculate_ratings_user_mean(train, test)\n",
    "    rms_train_user[fold]= RMSE_from_difference(train_diff)\n",
    "    rms_test_user[fold]= RMSE_from_difference(test_diff)\n",
    "    \n",
    "    #item mean      \n",
    "    R_item_mean, train_diff, test_diff = calculate_ratings_item_mean(train, test)\n",
    "    rms_train_item[fold]= RMSE_from_difference(train_diff)\n",
    "    rms_test_item[fold]= RMSE_from_difference(test_diff)\n",
    "    \n",
    "    #linear regression\n",
    "    alpha, beta, gamma, train_diff, test_diff = calculate_ratings_linear_regression(train, test, R_user_mean, R_item_mean)\n",
    "    \n",
    "    rms_train_lsq[fold]= RMSE_from_difference(train_diff)\n",
    "    rms_test_lsq[fold]= RMSE_from_difference(test_diff)\n",
    "    \n",
    "    # save lstsq regression parameters for this fold\n",
    "    param1[fold] = alpha\n",
    "    param2[fold] = beta\n",
    "    param3[fold] = gamma"
   ]
  },
  {
   "cell_type": "markdown",
   "metadata": {},
   "source": [
    "# Visualisation of the results #\n",
    "\n",
    "We plotted the RMSE for every fold in the cross-validation below. Underneath the plots we showed the average RMSE per train and test data set with their corresponding standard deviation. Finally we showed the parameters used for the linear regression, with their standard deviations below. These parameters are averaged over each fold. "
   ]
  },
  {
   "cell_type": "markdown",
   "metadata": {},
   "source": [
    "The two functions below are used to visualize the results."
   ]
  },
  {
   "cell_type": "code",
   "execution_count": 9,
   "metadata": {},
   "outputs": [],
   "source": [
    "def nice_print(train, test, types):\n",
    "    print(\"=========================================================================\")\n",
    "    print('{} {:04.3f} {} {:04.3f}'.format(\"Mean error on \" + types + \" train data: \", np.mean(train), 'with a std on the error of:', np.std(train)))\n",
    "    print('{} {:04.3f} {} {:04.3f}'.format(\"Mean error on \" + types + \" test data: \", np.mean(test), 'with a std on the error of:', np.std(test)))\n",
    "    print(\"=========================================================================\")\n",
    "    \n",
    "def nice_plot(title,train,test):\n",
    "    plt.figure()\n",
    "    plt.title(title)\n",
    "    plt.plot(range(0,nfolds,1), train, label ='train data')\n",
    "    plt.plot(range(0,nfolds,1), test, label = 'test data')\n",
    "    plt.xlabel('folds')\n",
    "    plt.ylabel('RMS')\n",
    "    plt.legend()\n",
    "    plt.show()"
   ]
  },
  {
   "cell_type": "code",
   "execution_count": 10,
   "metadata": {},
   "outputs": [
    {
     "data": {
      "image/png": "[encoded data removed]",
      "text/plain": [
       "<Figure size 432x288 with 1 Axes>"
      ]
     },
     "metadata": {
      "needs_background": "light"
     },
     "output_type": "display_data"
    },
    {
     "name": "stdout",
     "output_type": "stream",
     "text": [
      "=========================================================================\n",
      "Mean error on global train data:  1.117 with a std on the error of: 0.000\n",
      "Mean error on global test data:  1.117 with a std on the error of: 0.001\n",
      "=========================================================================\n"
     ]
    },
    {
     "data": {
      "image/png": "[encoded data removed]",
      "text/plain": [
       "<Figure size 432x288 with 1 Axes>"
      ]
     },
     "metadata": {
      "needs_background": "light"
     },
     "output_type": "display_data"
    },
    {
     "name": "stdout",
     "output_type": "stream",
     "text": [
      "=========================================================================\n",
      "Mean error on user train data:  1.028 with a std on the error of: 0.000\n",
      "Mean error on user test data:  1.035 with a std on the error of: 0.001\n",
      "=========================================================================\n"
     ]
    },
    {
     "data": {
      "image/png": "[encoded data removed]",
      "text/plain": [
       "<Figure size 432x288 with 1 Axes>"
      ]
     },
     "metadata": {
      "needs_background": "light"
     },
     "output_type": "display_data"
    },
    {
     "name": "stdout",
     "output_type": "stream",
     "text": [
      "=========================================================================\n",
      "Mean error on item train data:  0.974 with a std on the error of: 0.000\n",
      "Mean error on item test data:  0.980 with a std on the error of: 0.001\n",
      "=========================================================================\n"
     ]
    },
    {
     "data": {
      "image/png": "[encoded data removed]",
      "text/plain": [
       "<Figure size 432x288 with 1 Axes>"
      ]
     },
     "metadata": {
      "needs_background": "light"
     },
     "output_type": "display_data"
    },
    {
     "name": "stdout",
     "output_type": "stream",
     "text": [
      "=========================================================================\n",
      "Mean error on Lsq train data:  0.915 with a std on the error of: 0.000\n",
      "Mean error on Lsq test data:  0.924 with a std on the error of: 0.001\n",
      "=========================================================================\n"
     ]
    }
   ],
   "source": [
    "#print and visualize the final conclusion\n",
    "nice_plot('Global mean',rms_train_global, rms_test_global)\n",
    "nice_print(rms_train_global,rms_test_global, 'global')\n",
    "\n",
    "nice_plot('User mean',rms_train_user, rms_test_user)\n",
    "nice_print(rms_train_user,rms_test_user, 'user')\n",
    "\n",
    "nice_plot('Item mean',rms_train_item, rms_test_item)\n",
    "nice_print(rms_train_item,rms_test_item, 'item')\n",
    "\n",
    "nice_plot('Least Square Test',rms_train_lsq, rms_test_lsq)\n",
    "nice_print(rms_train_lsq,rms_test_lsq, 'Lsq')"
   ]
  },
  {
   "cell_type": "code",
   "execution_count": 11,
   "metadata": {},
   "outputs": [
    {
     "name": "stdout",
     "output_type": "stream",
     "text": [
      "The found parameters for the least square fit of the regression line are:\n",
      "------------------------\n",
      "alpha  beta  gamma\n",
      "0.782 0.875 -2.352\n"
     ]
    }
   ],
   "source": [
    "print('The found parameters for the least square fit of the regression line are:')\n",
    "print('{:17}'.format('------------------------'))\n",
    "print('{}  {}  {}'.format('alpha', 'beta', 'gamma'))\n",
    "print('{:05.3f} {:05.3f} {:05.3f}'.format(np.mean(param1), np.mean(param2), np.mean(param3)))"
   ]
  },
  {
   "cell_type": "markdown",
   "metadata": {},
   "source": [
    "## Interpretation of the results ##\n",
    "\n",
    "The RMSE shows a decrease as the naive models become more complex. For comparison, we can use the Netflix baseline for their recommandation system. Their RMSE was 0.9514. Although the data sets are different this number still gives an estimate of a proper RMSE. Only the linear combination is below the Netflix baseline. \n",
    "\n",
    " - HERE I WILL ADD ALL MODELS ON ONE GRAPH FOR COMPARISON -- TO SEE HOW THE RMSE DECREASES AS MODEL COMPLEXITY INCREASES\n",
    " - also i will try to remove the decimals from the x-axis from the graphs with the folds :') \n",
    "\n",
    "The information we used to train the model was very global. If we used more specific information gathered form the train data set we expect the deviation between the train and test data to be larger, as the model will be more specific for the data set in which it is trained. The information we used for our recommandation systems were very global. The global models translates to the small deviation between the test and train data, but to a higher RMSE compared to a more advanced recommandation system (see part 2). \n",
    "\n",
    "The small deviation between the train and test data sets are clearly visible in the first model. The global mean model is the most global model we used, therefore the test data and train data overlap and even have the same RMSE. The small standard deviations corresponds to a stable model. Again this is due to the global information we used to train the model. If more specific information was used while determining the model, we would expect the standard deviation to increase. "
   ]
  },
  {
   "cell_type": "code",
   "execution_count": null,
   "metadata": {},
   "outputs": [],
   "source": []
  }
 ],
 "metadata": {
  "kernelspec": {
   "display_name": "Python 3",
   "language": "python",
   "name": "python3"
  },
  "language_info": {
   "codemirror_mode": {
    "name": "ipython",
    "version": 3
   },
   "file_extension": ".py",
   "mimetype": "text/x-python",
   "name": "python",
   "nbconvert_exporter": "python",
   "pygments_lexer": "ipython3",
   "version": "3.6.8"
  }
 },
 "nbformat": 4,
 "nbformat_minor": 2
}
